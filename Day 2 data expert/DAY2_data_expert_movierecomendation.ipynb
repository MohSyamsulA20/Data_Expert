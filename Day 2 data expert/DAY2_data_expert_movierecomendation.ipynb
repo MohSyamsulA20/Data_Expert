{
  "nbformat": 4,
  "nbformat_minor": 0,
  "metadata": {
    "colab": {
      "provenance": []
    },
    "kernelspec": {
      "name": "python3",
      "display_name": "Python 3"
    },
    "language_info": {
      "name": "python"
    }
  },
  "cells": [
    {
      "cell_type": "code",
      "execution_count": null,
      "metadata": {
        "colab": {
          "base_uri": "https://localhost:8080/"
        },
        "id": "gW3TDjXTsb10",
        "outputId": "afd43b5f-290b-4bd5-dd61-57e5500eb5d9"
      },
      "outputs": [
        {
          "output_type": "stream",
          "name": "stdout",
          "text": [
            "Collecting surprise\n",
            "  Downloading surprise-0.1-py2.py3-none-any.whl.metadata (327 bytes)\n",
            "Collecting scikit-surprise (from surprise)\n",
            "  Downloading scikit_surprise-1.1.4.tar.gz (154 kB)\n",
            "\u001b[2K     \u001b[90m━━━━━━━━━━━━━━━━━━━━━━━━━━━━━━━━━━━━━━━━\u001b[0m \u001b[32m154.4/154.4 kB\u001b[0m \u001b[31m3.1 MB/s\u001b[0m eta \u001b[36m0:00:00\u001b[0m\n",
            "\u001b[?25h  Installing build dependencies ... \u001b[?25l\u001b[?25hdone\n",
            "  Getting requirements to build wheel ... \u001b[?25l\u001b[?25hdone\n",
            "  Preparing metadata (pyproject.toml) ... \u001b[?25l\u001b[?25hdone\n",
            "Requirement already satisfied: joblib>=1.2.0 in /usr/local/lib/python3.11/dist-packages (from scikit-surprise->surprise) (1.4.2)\n",
            "Requirement already satisfied: numpy>=1.19.5 in /usr/local/lib/python3.11/dist-packages (from scikit-surprise->surprise) (1.26.4)\n",
            "Requirement already satisfied: scipy>=1.6.0 in /usr/local/lib/python3.11/dist-packages (from scikit-surprise->surprise) (1.13.1)\n",
            "Downloading surprise-0.1-py2.py3-none-any.whl (1.8 kB)\n",
            "Building wheels for collected packages: scikit-surprise\n",
            "  Building wheel for scikit-surprise (pyproject.toml) ... \u001b[?25l\u001b[?25hdone\n",
            "  Created wheel for scikit-surprise: filename=scikit_surprise-1.1.4-cp311-cp311-linux_x86_64.whl size=2505179 sha256=73e688a1ba51965af431022e2d16e8bccd4a949855f3063592f71bbfeedaf20f\n",
            "  Stored in directory: /root/.cache/pip/wheels/2a/8f/6e/7e2899163e2d85d8266daab4aa1cdabec7a6c56f83c015b5af\n",
            "Successfully built scikit-surprise\n",
            "Installing collected packages: scikit-surprise, surprise\n",
            "Successfully installed scikit-surprise-1.1.4 surprise-0.1\n"
          ]
        }
      ],
      "source": [
        "!pip install surprise\n",
        "\n",
        "import sys\n",
        "import random\n",
        "from surprise import Dataset, Reader\n",
        "from surprise import KNNBasic\n",
        "from surprise.model_selection import train_test_split\n",
        "from surprise import accuracy\n",
        "from surprise.dataset import DatasetAutoFolds\n",
        "import matplotlib.pyplot as plt\n",
        "import seaborn as sns\n",
        "import pandas as pd\n",
        "import operator\n",
        "import requests\n",
        "from zipfile import ZipFile"
      ]
    },
    {
      "cell_type": "code",
      "source": [
        "import random\n",
        "\n",
        "df = pd.read_csv('/content/ratings.csv',\n",
        "                 skiprows=lambda i: i > 0 and random.random() > 0.002,\n",
        "                 on_bad_lines=\"skip\")\n",
        "\n",
        "print(len(df))"
      ],
      "metadata": {
        "colab": {
          "base_uri": "https://localhost:8080/"
        },
        "id": "Hgt2cYICshI4",
        "outputId": "ea3397e7-dcf4-4c6b-bcdb-2cab7902c18e"
      },
      "execution_count": null,
      "outputs": [
        {
          "output_type": "stream",
          "name": "stdout",
          "text": [
            "49882\n"
          ]
        }
      ]
    },
    {
      "cell_type": "code",
      "source": [
        "df=df[0:20000]"
      ],
      "metadata": {
        "id": "X-gpMCqQslDH"
      },
      "execution_count": null,
      "outputs": []
    },
    {
      "cell_type": "code",
      "source": [
        "reader = Reader(rating_scale=(1,5))\n",
        "data = Dataset.load_from_df(df[['userId','movieId','rating']], reader)\n",
        "print(type(data))"
      ],
      "metadata": {
        "colab": {
          "base_uri": "https://localhost:8080/"
        },
        "id": "YyhI9qdNsm40",
        "outputId": "152af1a9-3821-4c21-f266-849e640110fb"
      },
      "execution_count": null,
      "outputs": [
        {
          "output_type": "stream",
          "name": "stdout",
          "text": [
            "<class 'surprise.dataset.DatasetAutoFolds'>\n"
          ]
        }
      ]
    },
    {
      "cell_type": "code",
      "source": [
        "# Split the data into training and testing sets\n",
        "trainset, testset = train_test_split(data, test_size=0.25)\n",
        "print(type(trainset))"
      ],
      "metadata": {
        "colab": {
          "base_uri": "https://localhost:8080/"
        },
        "id": "61ndmvKNsmyu",
        "outputId": "22cf66bd-98f9-40e5-e405-1f94d2cf23b7"
      },
      "execution_count": null,
      "outputs": [
        {
          "output_type": "stream",
          "name": "stdout",
          "text": [
            "<class 'surprise.trainset.Trainset'>\n"
          ]
        }
      ]
    },
    {
      "cell_type": "code",
      "source": [
        "import itertools\n",
        "\n",
        "for uid, iid, rating in itertools.islice(trainset.all_ratings(), 5):\n",
        "    print(f\"User {uid} rated item {iid} with a rating of {rating}\")\n",
        "\n",
        "print()\n",
        "for uid, iid, rating in testset[:5]:\n",
        "    print(f\"User {uid} rated item {iid} with a rating of {rating}\")\n",
        "\n",
        "print()\n",
        "print(trainset.n_ratings,len(testset))"
      ],
      "metadata": {
        "colab": {
          "base_uri": "https://localhost:8080/"
        },
        "id": "1D6GLkVXsqCV",
        "outputId": "04a3c3de-c96c-428c-a873-822161e43cfe"
      },
      "execution_count": null,
      "outputs": [
        {
          "output_type": "stream",
          "name": "stdout",
          "text": [
            "User 0 rated item 0 with a rating of 4.5\n",
            "User 1 rated item 1 with a rating of 4.0\n",
            "User 1 rated item 701 with a rating of 4.5\n",
            "User 1 rated item 1147 with a rating of 2.5\n",
            "User 2 rated item 2 with a rating of 1.5\n",
            "\n",
            "User 18019 rated item 3793 with a rating of 1.0\n",
            "User 1899 rated item 1911 with a rating of 3.5\n",
            "User 56153 rated item 1201 with a rating of 4.0\n",
            "User 54621 rated item 4226 with a rating of 3.5\n",
            "User 59190 rated item 1639 with a rating of 3.0\n",
            "\n",
            "15000 5000\n"
          ]
        }
      ]
    },
    {
      "cell_type": "code",
      "source": [
        "# Use the KNNBasic algorithm to train the model\n",
        "algo = KNNBasic()\n",
        "algo.fit(trainset)"
      ],
      "metadata": {
        "id": "WPfQSYpHQvek"
      },
      "execution_count": null,
      "outputs": []
    },
    {
      "cell_type": "code",
      "source": [
        "# Test the model on the testing set\n",
        "predictions = algo.test(testset)"
      ],
      "metadata": {
        "id": "F1CPmKMvTuAY"
      },
      "execution_count": null,
      "outputs": []
    },
    {
      "cell_type": "code",
      "source": [
        "for uid, iid, rating in testset[:5]:\n",
        "    print(f\"User {uid} rated item {iid} with a rating of {rating}\")"
      ],
      "metadata": {
        "id": "ExTAEVPPT0QH"
      },
      "execution_count": null,
      "outputs": []
    },
    {
      "cell_type": "code",
      "source": [
        "for prediction in predictions[0:5]:\n",
        "    print(prediction)"
      ],
      "metadata": {
        "id": "4o4G9RaZT9ch"
      },
      "execution_count": null,
      "outputs": []
    },
    {
      "cell_type": "code",
      "source": [
        "# Print the performance metrics\n",
        "accuracy.rmse(predictions)"
      ],
      "metadata": {
        "id": "pmK5ev34UAU9"
      },
      "execution_count": null,
      "outputs": []
    },
    {
      "cell_type": "code",
      "source": [
        "true_ratings = [pred.r_ui for pred in predictions]\n",
        "est_ratings = [pred.est for pred in predictions]\n",
        "uids = [pred.uid for pred in predictions]"
      ],
      "metadata": {
        "id": "vqdS4zqzUGo7"
      },
      "execution_count": null,
      "outputs": []
    },
    {
      "cell_type": "code",
      "source": [
        "data=pd.DataFrame(columns=[\"true\",\"predicted\"])\n",
        "data[\"true\"]=true_ratings\n",
        "data[\"predicted\"]=est_ratings\n",
        "g = sns.jointplot(data=data,x=\"true\", y=\"predicted\", kind=\"kde\",)\n",
        "g.fig.suptitle('Test predictions',fontsize=12)\n",
        "plt.show()"
      ],
      "metadata": {
        "id": "KXel5WLOUKoM"
      },
      "execution_count": null,
      "outputs": []
    },
    {
      "cell_type": "code",
      "source": [
        "movies=pd.read_csv('/content/movies.csv')\n",
        "mapping = movies.set_index(\"movieId\")[\"title\"].to_dict()"
      ],
      "metadata": {
        "id": "B3tJyYVftBsP"
      },
      "execution_count": null,
      "outputs": []
    },
    {
      "cell_type": "code",
      "source": [
        "users=list(set(uids))"
      ],
      "metadata": {
        "id": "jLuD7JdBUZs4"
      },
      "execution_count": null,
      "outputs": []
    },
    {
      "cell_type": "code",
      "source": [
        "# items which the user not yet evaluate\n",
        "items = trainset.build_anti_testset()\n",
        "for user in users[0:30]:\n",
        "    user_items = list(filter(lambda x: x[0] == user, items))\n",
        "    #print(user,len(user_items))\n",
        "    # generate recommendation\n",
        "    recommendations = algo.test(user_items)\n",
        "    if len(recommendations)>0:\n",
        "        recommendations.sort(key=operator.itemgetter(3), reverse=True)\n",
        "        print(f\"For User {user}, Recommendations:\")\n",
        "        for r in recommendations[0:5]:\n",
        "            print(f\"  {mapping[r[1]]} : Estimated rating {round(r[3],4)}\")"
      ],
      "metadata": {
        "colab": {
          "base_uri": "https://localhost:8080/"
        },
        "id": "oY2LgVrwtFKI",
        "outputId": "600a610f-c830-4360-8d56-1a346ac033bd"
      },
      "execution_count": null,
      "outputs": [
        {
          "output_type": "stream",
          "name": "stdout",
          "text": [
            "For User 57344, Recommendations:\n",
            "  Training Day (2001) : Estimated rating 3.5238\n",
            "  Paddington (2014) : Estimated rating 3.5238\n",
            "  Napoleon Dynamite (2004) : Estimated rating 3.5238\n",
            "  Outsiders, The (1983) : Estimated rating 3.5238\n",
            "  Blade Runner (1982) : Estimated rating 3.5238\n",
            "For User 32778, Recommendations:\n",
            "  Pretty Woman (1990) : Estimated rating 5\n",
            "  Shaft (1971) : Estimated rating 4.0\n",
            "  Training Day (2001) : Estimated rating 3.5238\n",
            "  Paddington (2014) : Estimated rating 3.5238\n",
            "  Napoleon Dynamite (2004) : Estimated rating 3.5238\n",
            "For User 13, Recommendations:\n",
            "  The Fate of the Furious (2017) : Estimated rating 5\n",
            "  Gone Baby Gone (2007) : Estimated rating 4.0\n",
            "  Training Day (2001) : Estimated rating 3.5238\n",
            "  Paddington (2014) : Estimated rating 3.5238\n",
            "  Napoleon Dynamite (2004) : Estimated rating 3.5238\n",
            "For User 19, Recommendations:\n",
            "  Ace Ventura: Pet Detective (1994) : Estimated rating 5\n",
            "  Star Wars: Episode V - The Empire Strikes Back (1980) : Estimated rating 4.5\n",
            "  Kill Bill: Vol. 2 (2004) : Estimated rating 4.5\n",
            "  Apocalypse Now (1979) : Estimated rating 4.0\n",
            "  Training Day (2001) : Estimated rating 3.5238\n",
            "For User 57367, Recommendations:\n",
            "  Raiders of the Lost Ark (Indiana Jones and the Raiders of the Lost Ark) (1981) : Estimated rating 5\n",
            "  10 Items or Less (2006) : Estimated rating 4.5\n",
            "  Rosemary's Baby (1968) : Estimated rating 4.0\n",
            "  Signs (2002) : Estimated rating 4.0\n",
            "  Training Day (2001) : Estimated rating 3.5238\n",
            "For User 49177, Recommendations:\n",
            "  Training Day (2001) : Estimated rating 3.5238\n",
            "  Paddington (2014) : Estimated rating 3.5238\n",
            "  Napoleon Dynamite (2004) : Estimated rating 3.5238\n",
            "  Outsiders, The (1983) : Estimated rating 3.5238\n",
            "  Blade Runner (1982) : Estimated rating 3.5238\n",
            "For User 31, Recommendations:\n",
            "  American Beauty (1999) : Estimated rating 5\n",
            "  Serendipity (2001) : Estimated rating 5\n",
            "  Iron Giant, The (1999) : Estimated rating 4.5\n",
            "  Dark Knight Rises, The (2012) : Estimated rating 4.5\n",
            "  Sympathy for Mr. Vengeance (Boksuneun naui geot) (2002) : Estimated rating 4.0\n",
            "For User 24609, Recommendations:\n",
            "  As Good as It Gets (1997) : Estimated rating 5\n",
            "  Mars Attacks! (1996) : Estimated rating 4.5\n",
            "  Matrix Revolutions, The (2003) : Estimated rating 4.0\n",
            "  My Neighbor Totoro (Tonari no Totoro) (1988) : Estimated rating 4.0\n",
            "  Training Day (2001) : Estimated rating 3.5238\n",
            "For User 24610, Recommendations:\n",
            "  Transcendence (2014) : Estimated rating 5\n",
            "  Taxi Driver (1976) : Estimated rating 4.0\n",
            "  Hackers (1995) : Estimated rating 4.0\n",
            "  Jungle Fever (1991) : Estimated rating 4.0\n",
            "  Miss Congeniality 2: Armed and Fabulous (2005) : Estimated rating 4.0\n",
            "For User 16422, Recommendations:\n",
            "  Ghost in the Shell (Kôkaku kidôtai) (1995) : Estimated rating 5\n",
            "  Usual Suspects, The (1995) : Estimated rating 5\n",
            "  Harry Potter and the Sorcerer's Stone (a.k.a. Harry Potter and the Philosopher's Stone) (2001) : Estimated rating 5\n",
            "  Better Off Dead... (1985) : Estimated rating 5\n",
            "  Men in Black (a.k.a. MIB) (1997) : Estimated rating 4.0\n",
            "For User 49191, Recommendations:\n",
            "  Braveheart (1995) : Estimated rating 4.5\n",
            "  Clear and Present Danger (1994) : Estimated rating 4.0\n",
            "  Scott Pilgrim vs. the World (2010) : Estimated rating 4.0\n",
            "  Training Day (2001) : Estimated rating 3.5238\n",
            "  Paddington (2014) : Estimated rating 3.5238\n",
            "For User 57384, Recommendations:\n",
            "  Karate Kid, The (1984) : Estimated rating 4.0\n",
            "  Fargo (1996) : Estimated rating 4.0\n",
            "  Three Musketeers, The (1993) : Estimated rating 4.0\n",
            "  48 Hrs. (1982) : Estimated rating 4.0\n",
            "  Prisoners (2013) : Estimated rating 4.0\n",
            "For User 32808, Recommendations:\n",
            "  Aguirre: The Wrath of God (Aguirre, der Zorn Gottes) (1972) : Estimated rating 4.5\n",
            "  Dracula (Bram Stoker's Dracula) (1992) : Estimated rating 4.0\n",
            "  Inconvenient Truth, An (2006) : Estimated rating 4.0\n",
            "  Delicatessen (1991) : Estimated rating 4.0\n",
            "  Drunken Master (Jui kuen) (1978) : Estimated rating 4.0\n",
            "For User 41013, Recommendations:\n",
            "  Babe (1995) : Estimated rating 5\n",
            "  Operation 'Y' & Other Shurik's Adventures (1965) : Estimated rating 5\n",
            "  Big Blue, The (Grand bleu, Le) (1988) : Estimated rating 5\n",
            "  Moulin Rouge (2001) : Estimated rating 4.5\n",
            "  Amelie (Fabuleux destin d'Amélie Poulain, Le) (2001) : Estimated rating 4.5\n"
          ]
        }
      ]
    },
    {
      "cell_type": "code",
      "source": [],
      "metadata": {
        "id": "qdqwmt_sUjnZ"
      },
      "execution_count": null,
      "outputs": []
    }
  ]
}